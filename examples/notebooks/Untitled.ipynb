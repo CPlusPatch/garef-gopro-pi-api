{
 "cells": [
  {
   "cell_type": "code",
   "execution_count": 5,
   "metadata": {},
   "outputs": [
    {
     "name": "stdout",
     "output_type": "stream",
     "text": [
      "Waking up...\n",
      "Camera successfully connected!\n",
      "Connected to 172.28.151.51\n"
     ]
    },
    {
     "data": {
      "text/plain": [
       "''"
      ]
     },
     "execution_count": 5,
     "metadata": {},
     "output_type": "execute_result"
    }
   ],
   "source": [
    "from goprocam import GoProCamera, constants\n",
    "import time\n",
    "interface = \"enp0s20u2\"\n",
    "gopro = GoProCamera.GoPro(ip_address=GoProCamera.GoPro.getWebcamIP(interface), camera=constants.gpcontrol, webcam_device=interface)\n",
    "gopro.startWebcam()\n",
    "gopro.getWebcamPreview()\n",
    "time.sleep(10)\n",
    "gopro.stopWebcam()"
   ]
  },
  {
   "cell_type": "code",
   "execution_count": null,
   "metadata": {},
   "outputs": [],
   "source": [
    "from goprocam import GoProCamera, constants\n",
    "interface = \"enp0s20u2\"\n",
    "gopro = GoProCamera.GoPro(ip_address=GoProCamera.GoPro.getWebcamIP(interface), camera=constants.gpcontrol, webcam_device=interface)\n",
    "gopro.stopWebcam()"
   ]
  }
 ],
 "metadata": {
  "kernelspec": {
   "display_name": "Python 3",
   "language": "python",
   "name": "python3"
  },
  "language_info": {
   "codemirror_mode": {
    "name": "ipython",
    "version": 3
   },
   "file_extension": ".py",
   "mimetype": "text/x-python",
   "name": "python",
   "nbconvert_exporter": "python",
   "pygments_lexer": "ipython3",
   "version": "3.8.6"
  }
 },
 "nbformat": 4,
 "nbformat_minor": 4
}